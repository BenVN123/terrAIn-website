{
 "cells": [
  {
   "cell_type": "code",
   "execution_count": 1,
   "id": "99331e93",
   "metadata": {},
   "outputs": [],
   "source": [
    "import boto3\n",
    "import json\n",
    "from decimal import Decimal"
   ]
  },
  {
   "cell_type": "code",
   "execution_count": 3,
   "id": "690af6b0",
   "metadata": {},
   "outputs": [],
   "source": [
    "class DecimalEncoder(json.JSONEncoder):\n",
    "    def default(self, obj):\n",
    "        if isinstance(obj, Decimal):\n",
    "            return float(obj)\n",
    "        return super(DecimalEncoder, self).default(obj)\n",
    "\n",
    "def get_table_head(table_name, limit=5, region_name='us-east-1'):\n",
    "    \"\"\"\n",
    "    Read the first few records from a DynamoDB table\n",
    "    \"\"\"\n",
    "    print(f\"\\n--- First {limit} records from {table_name} table ---\")\n",
    "    \n",
    "    # Create a session and resource\n",
    "    dynamodb = boto3.resource('dynamodb', region_name=region_name)\n",
    "    table = dynamodb.Table(table_name)\n",
    "    \n",
    "    try:\n",
    "        # Scan with a limit\n",
    "        response = table.scan(Limit=limit)\n",
    "        \n",
    "        # Check if there are any items\n",
    "        if 'Items' in response and response['Items']:\n",
    "            print(f\"Found {len(response['Items'])} items:\")\n",
    "            \n",
    "            for i, item in enumerate(response['Items']):\n",
    "                print(f\"\\nItem {i+1}:\")\n",
    "                print(json.dumps(item, indent=2, cls=DecimalEncoder))\n",
    "        else:\n",
    "            print(f\"No items found in the {table_name} table.\")\n",
    "            \n",
    "        print(f\"ScannedCount: {response.get('ScannedCount', 0)}\")\n",
    "        print(f\"Count: {response.get('Count', 0)}\")\n",
    "        \n",
    "    except Exception as e:\n",
    "        print(f\"Error scanning {table_name}: {e}\")\n",
    "\n",
    "# Script to read head from all three tables"
   ]
  },
  {
   "cell_type": "code",
   "execution_count": 14,
   "id": "0551c999",
   "metadata": {},
   "outputs": [
    {
     "name": "stdout",
     "output_type": "stream",
     "text": [
      "\n",
      "--- First 5 records from Distances table ---\n",
      "Found 4 items:\n",
      "\n",
      "Item 1:\n",
      "{\n",
      "  \"fromNodeId\": \"node0\",\n",
      "  \"distanceId\": \"ded4156\",\n",
      "  \"distance\": 9.9,\n",
      "  \"toNodeId\": \"node1\",\n",
      "  \"timestamp\": \"2025-04-14T17:23:15Z\",\n",
      "  \"timestamp_toNodeId\": \"2025-04-14T17:23:15Z_node1\"\n",
      "}\n",
      "\n",
      "Item 2:\n",
      "{\n",
      "  \"fromNodeId\": \"node0\",\n",
      "  \"distanceId\": \"dc8fd11\",\n",
      "  \"distance\": 10.08,\n",
      "  \"toNodeId\": \"node2\",\n",
      "  \"timestamp\": \"2025-04-14T17:23:15Z\",\n",
      "  \"timestamp_toNodeId\": \"2025-04-14T17:23:15Z_node2\"\n",
      "}\n",
      "\n",
      "Item 3:\n",
      "{\n",
      "  \"fromNodeId\": \"node0\",\n",
      "  \"distanceId\": \"d8d6af3\",\n",
      "  \"distance\": 14.05,\n",
      "  \"toNodeId\": \"node3\",\n",
      "  \"timestamp\": \"2025-04-14T17:23:15Z\",\n",
      "  \"timestamp_toNodeId\": \"2025-04-14T17:23:15Z_node3\"\n",
      "}\n",
      "\n",
      "Item 4:\n",
      "{\n",
      "  \"fromNodeId\": \"node0\",\n",
      "  \"distanceId\": \"d42f1a5\",\n",
      "  \"distance\": 7.2,\n",
      "  \"toNodeId\": \"node4\",\n",
      "  \"timestamp\": \"2025-04-14T17:23:15Z\",\n",
      "  \"timestamp_toNodeId\": \"2025-04-14T17:23:15Z_node4\"\n",
      "}\n",
      "ScannedCount: 4\n",
      "Count: 4\n"
     ]
    }
   ],
   "source": [
    "# get_table_head(\"Nodes\")\n",
    "get_table_head(\"Distances\")\n",
    "# get_table_head(\"Readings\")"
   ]
  },
  {
   "cell_type": "code",
   "execution_count": 17,
   "id": "3101c6cf",
   "metadata": {},
   "outputs": [],
   "source": [
    "def count_table_entries(region_name='us-east-1'):\n",
    "    \"\"\"\n",
    "    Count the number of entries in each DynamoDB table\n",
    "    \"\"\"\n",
    "    dynamodb = boto3.resource('dynamodb', region_name=region_name)\n",
    "    tables = ['Nodes', 'Readings', 'Distances']\n",
    "    \n",
    "    print(\"\\n--- Table Entry Counts ---\")\n",
    "    for table_name in tables:\n",
    "        try:\n",
    "            table = dynamodb.Table(table_name)\n",
    "            response = table.scan(Select='COUNT')\n",
    "            count = response['Count']\n",
    "            \n",
    "            # Handle pagination if there are more than 1MB of results\n",
    "            while 'LastEvaluatedKey' in response:\n",
    "                response = table.scan(\n",
    "                    Select='COUNT',\n",
    "                    ExclusiveStartKey=response['LastEvaluatedKey']\n",
    "                )\n",
    "                count += response['Count']\n",
    "                \n",
    "            print(f\"{table_name}: {count} entries\")\n",
    "        except Exception as e:\n",
    "            print(f\"Error counting {table_name}: {e}\")\n",
    "    \n",
    "    return None\n",
    "\n",
    "def clear_database(confirm=True, region_name='us-east-1'):\n",
    "    \"\"\"\n",
    "    Clear all entries from all DynamoDB tables\n",
    "    This is a destructive operation and requires confirmation\n",
    "    \"\"\"\n",
    "    if confirm:\n",
    "        confirmation = input(\"WARNING: This will delete ALL records from ALL tables. Type 'DELETE' to confirm: \")\n",
    "        if confirmation != \"DELETE\":\n",
    "            print(\"Operation cancelled.\")\n",
    "            return False\n",
    "    \n",
    "    dynamodb = boto3.resource('dynamodb', region_name=region_name)\n",
    "    tables = ['Nodes', 'Readings', 'Distances']\n",
    "    total_deleted = 0\n",
    "    \n",
    "    print(\"\\n--- Clearing Database Tables ---\")\n",
    "    for table_name in tables:\n",
    "        try:\n",
    "            table = dynamodb.Table(table_name)\n",
    "            # Get primary key information\n",
    "            table_description = table.meta.client.describe_table(TableName=table_name)\n",
    "            key_schema = table_description['Table']['KeySchema']\n",
    "            \n",
    "            # Scan for all items\n",
    "            response = table.scan()\n",
    "            items = response.get('Items', [])\n",
    "            deleted_count = 0\n",
    "            \n",
    "            # Handle pagination\n",
    "            while 'LastEvaluatedKey' in response:\n",
    "                response = table.scan(ExclusiveStartKey=response['LastEvaluatedKey'])\n",
    "                items.extend(response.get('Items', []))\n",
    "            \n",
    "            # Delete each item\n",
    "            print(f\"Deleting {len(items)} items from {table_name}...\")\n",
    "            for item in items:\n",
    "                # Create a key dictionary based on the key schema\n",
    "                key = {attr['AttributeName']: item[attr['AttributeName']] \n",
    "                       for attr in key_schema}\n",
    "                table.delete_item(Key=key)\n",
    "                deleted_count += 1\n",
    "                \n",
    "                # Print progress every 100 items\n",
    "                if deleted_count % 100 == 0:\n",
    "                    print(f\"  Deleted {deleted_count} items...\")\n",
    "            \n",
    "            print(f\"Completed: {deleted_count} items deleted from {table_name}\")\n",
    "            total_deleted += deleted_count\n",
    "            \n",
    "        except Exception as e:\n",
    "            print(f\"Error clearing {table_name}: {e}\")\n",
    "    \n",
    "    print(f\"\\nTotal items deleted: {total_deleted}\")\n",
    "    return True\n",
    "\n",
    "# Example usage\n",
    "# Count entries in all tables\n"
   ]
  },
  {
   "cell_type": "code",
   "execution_count": 30,
   "id": "2354d8cb",
   "metadata": {},
   "outputs": [
    {
     "name": "stdout",
     "output_type": "stream",
     "text": [
      "\n",
      "--- Table Entry Counts ---\n",
      "Nodes: 5 entries\n",
      "Readings: 57 entries\n",
      "Distances: 40 entries\n"
     ]
    }
   ],
   "source": [
    "count_table_entries()"
   ]
  },
  {
   "cell_type": "code",
   "execution_count": null,
   "id": "b1efd6e7",
   "metadata": {},
   "outputs": [
    {
     "name": "stdout",
     "output_type": "stream",
     "text": [
      "\n",
      "--- Clearing Database Tables ---\n",
      "Deleting 5 items from Nodes...\n",
      "Completed: 5 items deleted from Nodes\n",
      "Deleting 14 items from Readings...\n",
      "Completed: 14 items deleted from Readings\n",
      "Deleting 56 items from Distances...\n",
      "Completed: 56 items deleted from Distances\n",
      "\n",
      "Total items deleted: 75\n"
     ]
    },
    {
     "data": {
      "text/plain": [
       "True"
      ]
     },
     "execution_count": 25,
     "metadata": {},
     "output_type": "execute_result"
    }
   ],
   "source": [
    "# RUN TO CLEAR DBH\n",
    "clear_database()"
   ]
  }
 ],
 "metadata": {
  "kernelspec": {
   "display_name": "soil_mesh",
   "language": "python",
   "name": "python3"
  },
  "language_info": {
   "codemirror_mode": {
    "name": "ipython",
    "version": 3
   },
   "file_extension": ".py",
   "mimetype": "text/x-python",
   "name": "python",
   "nbconvert_exporter": "python",
   "pygments_lexer": "ipython3",
   "version": "3.11.12"
  }
 },
 "nbformat": 4,
 "nbformat_minor": 5
}
